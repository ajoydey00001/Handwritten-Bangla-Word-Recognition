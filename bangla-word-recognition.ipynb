{
 "cells": [
  {
   "cell_type": "markdown",
   "id": "ce3f86a5-4033-42e5-b61a-7fe8f0f64df7",
   "metadata": {
    "papermill": {
     "duration": 0.011081,
     "end_time": "2024-02-26T03:52:26.511392",
     "exception": false,
     "start_time": "2024-02-26T03:52:26.500311",
     "status": "completed"
    },
    "tags": []
   },
   "source": [
    "## 1. Loading Data"
   ]
  },
  {
   "cell_type": "code",
   "execution_count": 246,
   "id": "abe2d78e-e08d-4d92-8e40-669ecb06073b",
   "metadata": {
    "execution": {
     "iopub.execute_input": "2024-12-06T07:53:19.787878Z",
     "iopub.status.busy": "2024-12-06T07:53:19.787484Z",
     "iopub.status.idle": "2024-12-06T07:53:19.794042Z",
     "shell.execute_reply": "2024-12-06T07:53:19.793136Z",
     "shell.execute_reply.started": "2024-12-06T07:53:19.787845Z"
    },
    "papermill": {
     "duration": 5.888884,
     "end_time": "2024-02-26T03:52:32.410855",
     "exception": false,
     "start_time": "2024-02-26T03:52:26.521971",
     "status": "completed"
    },
    "tags": [],
    "trusted": true
   },
   "outputs": [],
   "source": [
    "import os\n",
    "\n",
    "import torch\n",
    "import torch.nn as nn\n",
    "import torchvision\n",
    "from torchvision import datasets, transforms\n",
    "from torch.utils.data import DataLoader\n",
    "\n",
    "try:\n",
    "    from torchinfo import summary\n",
    "except:\n",
    "    print(\"[INFO] Couldn't find torchinfo... installing it.\")\n",
    "    !pip install -q torchinfo\n",
    "    from torchinfo import summary"
   ]
  },
  {
   "cell_type": "code",
   "execution_count": 247,
   "id": "06e52d12-970b-4073-a8c6-7f01b9f2fe8a",
   "metadata": {
    "execution": {
     "iopub.execute_input": "2024-12-06T07:53:19.796418Z",
     "iopub.status.busy": "2024-12-06T07:53:19.795730Z",
     "iopub.status.idle": "2024-12-06T07:53:19.810511Z",
     "shell.execute_reply": "2024-12-06T07:53:19.809757Z",
     "shell.execute_reply.started": "2024-12-06T07:53:19.796391Z"
    },
    "papermill": {
     "duration": 0.02755,
     "end_time": "2024-02-26T03:52:32.452179",
     "exception": false,
     "start_time": "2024-02-26T03:52:32.424629",
     "status": "completed"
    },
    "tags": [],
    "trusted": true
   },
   "outputs": [],
   "source": [
    "torch.manual_seed(0)\n",
    "torch.cuda.manual_seed(0)"
   ]
  },
  {
   "cell_type": "code",
   "execution_count": 248,
   "id": "1edb300a-0fe8-4cfc-8c6e-45fe3124a094",
   "metadata": {
    "execution": {
     "iopub.execute_input": "2024-12-06T07:53:19.812424Z",
     "iopub.status.busy": "2024-12-06T07:53:19.812107Z",
     "iopub.status.idle": "2024-12-06T07:53:19.819923Z",
     "shell.execute_reply": "2024-12-06T07:53:19.818934Z",
     "shell.execute_reply.started": "2024-12-06T07:53:19.812399Z"
    },
    "papermill": {
     "duration": 0.06362,
     "end_time": "2024-02-26T03:52:32.528969",
     "exception": false,
     "start_time": "2024-02-26T03:52:32.465349",
     "status": "completed"
    },
    "tags": [],
    "trusted": true
   },
   "outputs": [
    {
     "data": {
      "text/plain": [
       "'cuda'"
      ]
     },
     "execution_count": 248,
     "metadata": {},
     "output_type": "execute_result"
    }
   ],
   "source": [
    "# Setup device agnostic code\n",
    "device = \"cuda\" if torch.cuda.is_available() else \"cpu\"\n",
    "device"
   ]
  },
  {
   "cell_type": "code",
   "execution_count": 249,
   "id": "add56b48-0551-485b-bb8a-c4b0e51ba813",
   "metadata": {
    "execution": {
     "iopub.execute_input": "2024-12-06T07:53:19.821300Z",
     "iopub.status.busy": "2024-12-06T07:53:19.821022Z",
     "iopub.status.idle": "2024-12-06T07:53:19.827864Z",
     "shell.execute_reply": "2024-12-06T07:53:19.827143Z",
     "shell.execute_reply.started": "2024-12-06T07:53:19.821276Z"
    },
    "papermill": {
     "duration": 0.01923,
     "end_time": "2024-02-26T03:52:32.558908",
     "exception": false,
     "start_time": "2024-02-26T03:52:32.539678",
     "status": "completed"
    },
    "tags": [],
    "trusted": true
   },
   "outputs": [],
   "source": [
    "NUM_WORKERS = os.cpu_count()\n",
    "BATCH_SIZE = 32\n",
    "\n",
    "def create_dataloader(data_dir: str,\n",
    "                      transform: transforms.Compose,\n",
    "                      batch_size: int=BATCH_SIZE,\n",
    "                      num_workers: int=NUM_WORKERS,\n",
    "                      shuffle=True):\n",
    "    \n",
    "    data = datasets.ImageFolder(data_dir, transform=transform)\n",
    "   \n",
    "    class_names = data.classes\n",
    "    \n",
    "    data_loader = DataLoader(data,\n",
    "                            batch_size=batch_size,\n",
    "                            shuffle=shuffle,\n",
    "                            num_workers=num_workers,\n",
    "                            pin_memory=True)\n",
    "\n",
    "    return data_loader, class_names"
   ]
  },
  {
   "cell_type": "code",
   "execution_count": 250,
   "id": "4ad965fb-6e3d-4104-a20b-c0a9a62feb51",
   "metadata": {
    "execution": {
     "iopub.execute_input": "2024-12-06T07:53:19.829734Z",
     "iopub.status.busy": "2024-12-06T07:53:19.829484Z",
     "iopub.status.idle": "2024-12-06T07:53:19.837475Z",
     "shell.execute_reply": "2024-12-06T07:53:19.836855Z",
     "shell.execute_reply.started": "2024-12-06T07:53:19.829710Z"
    },
    "papermill": {
     "duration": 0.016912,
     "end_time": "2024-02-26T03:52:32.586403",
     "exception": false,
     "start_time": "2024-02-26T03:52:32.569491",
     "status": "completed"
    },
    "tags": [],
    "trusted": true
   },
   "outputs": [],
   "source": [
    "from pathlib import Path\n",
    "\n",
    "data_path = Path(\"/kaggle/input/my-zila\")\n",
    "image_path = data_path / \"zilla\""
   ]
  },
  {
   "cell_type": "code",
   "execution_count": 251,
   "id": "54f0ae83-7b7a-491c-b338-42117de0704a",
   "metadata": {
    "execution": {
     "iopub.execute_input": "2024-12-06T07:53:19.838692Z",
     "iopub.status.busy": "2024-12-06T07:53:19.838439Z",
     "iopub.status.idle": "2024-12-06T07:53:19.850271Z",
     "shell.execute_reply": "2024-12-06T07:53:19.849347Z",
     "shell.execute_reply.started": "2024-12-06T07:53:19.838666Z"
    },
    "papermill": {
     "duration": 0.017223,
     "end_time": "2024-02-26T03:52:32.614001",
     "exception": false,
     "start_time": "2024-02-26T03:52:32.596778",
     "status": "completed"
    },
    "tags": [],
    "trusted": true
   },
   "outputs": [],
   "source": [
    "train_dir = image_path / \"train\"\n",
    "test_dir = image_path / \"test\"\n",
    "val_dir = image_path / \"valid\""
   ]
  },
  {
   "cell_type": "markdown",
   "id": "ebb4e336-88f0-47ef-8ae2-55a073728e5a",
   "metadata": {
    "papermill": {
     "duration": 0.010397,
     "end_time": "2024-02-26T03:52:32.634863",
     "exception": false,
     "start_time": "2024-02-26T03:52:32.624466",
     "status": "completed"
    },
    "tags": []
   },
   "source": [
    "## 2. Importing Model"
   ]
  },
  {
   "cell_type": "code",
   "execution_count": 252,
   "id": "fe5725d4-73ed-4750-9473-95a82fb8bbdc",
   "metadata": {
    "execution": {
     "iopub.execute_input": "2024-12-06T07:53:19.851676Z",
     "iopub.status.busy": "2024-12-06T07:53:19.851409Z",
     "iopub.status.idle": "2024-12-06T07:53:19.862783Z",
     "shell.execute_reply": "2024-12-06T07:53:19.861806Z",
     "shell.execute_reply.started": "2024-12-06T07:53:19.851650Z"
    },
    "papermill": {
     "duration": 0.016972,
     "end_time": "2024-02-26T03:52:32.662403",
     "exception": false,
     "start_time": "2024-02-26T03:52:32.645431",
     "status": "completed"
    },
    "tags": [],
    "trusted": true
   },
   "outputs": [],
   "source": [
    "# import timm\n",
    "\n",
    "# model = timm.create_model('maxvit_base_tf_512.in21k_ft_in1k', pretrained=True)"
   ]
  },
  {
   "cell_type": "code",
   "execution_count": 253,
   "id": "dfa6029e-0c2e-44e0-b8ef-562d5b4013f8",
   "metadata": {
    "execution": {
     "iopub.execute_input": "2024-12-06T07:53:19.864242Z",
     "iopub.status.busy": "2024-12-06T07:53:19.863955Z",
     "iopub.status.idle": "2024-12-06T07:53:20.028429Z",
     "shell.execute_reply": "2024-12-06T07:53:20.027442Z",
     "shell.execute_reply.started": "2024-12-06T07:53:19.864217Z"
    },
    "papermill": {
     "duration": 0.597321,
     "end_time": "2024-02-26T03:52:33.270371",
     "exception": false,
     "start_time": "2024-02-26T03:52:32.673050",
     "status": "completed"
    },
    "tags": [],
    "trusted": true
   },
   "outputs": [],
   "source": [
    "weights = torchvision.models.EfficientNet_B0_Weights.DEFAULT # .DEFAULT = best available weights \n",
    "model = torchvision.models.efficientnet_b0(weights=weights)\n",
    "\n",
    "#model # uncomment to output (it's very long)"
   ]
  },
  {
   "cell_type": "code",
   "execution_count": 254,
   "id": "eb909221-91af-4c19-9dd4-ded27351f898",
   "metadata": {
    "execution": {
     "iopub.execute_input": "2024-12-06T07:53:20.030065Z",
     "iopub.status.busy": "2024-12-06T07:53:20.029713Z",
     "iopub.status.idle": "2024-12-06T07:53:20.033945Z",
     "shell.execute_reply": "2024-12-06T07:53:20.033070Z",
     "shell.execute_reply.started": "2024-12-06T07:53:20.030016Z"
    },
    "papermill": {
     "duration": 0.018126,
     "end_time": "2024-02-26T03:52:33.301056",
     "exception": false,
     "start_time": "2024-02-26T03:52:33.282930",
     "status": "completed"
    },
    "tags": [],
    "trusted": true
   },
   "outputs": [],
   "source": [
    "# data_config = timm.data.resolve_model_data_config(model)\n",
    "# train_transforms = timm.data.create_transform(**data_config, is_training=True)\n",
    "# eval_transforms = timm.data.create_transform(**data_config, is_training=False)"
   ]
  },
  {
   "cell_type": "code",
   "execution_count": 255,
   "id": "9ebdf3f5-d52c-4e2c-ab18-c97755cdd070",
   "metadata": {
    "execution": {
     "iopub.execute_input": "2024-12-06T07:53:20.036369Z",
     "iopub.status.busy": "2024-12-06T07:53:20.036071Z",
     "iopub.status.idle": "2024-12-06T07:53:20.046547Z",
     "shell.execute_reply": "2024-12-06T07:53:20.045660Z",
     "shell.execute_reply.started": "2024-12-06T07:53:20.036332Z"
    },
    "papermill": {
     "duration": 0.017371,
     "end_time": "2024-02-26T03:52:33.329348",
     "exception": false,
     "start_time": "2024-02-26T03:52:33.311977",
     "status": "completed"
    },
    "tags": [],
    "trusted": true
   },
   "outputs": [],
   "source": [
    "# Get the transforms used to create our pretrained weights\n",
    "train_transforms = eval_transforms = weights.transforms()"
   ]
  },
  {
   "cell_type": "markdown",
   "id": "9ffe6a31-ab30-4c7b-a6bb-b79609ac83ce",
   "metadata": {
    "papermill": {
     "duration": 0.010802,
     "end_time": "2024-02-26T03:52:33.351034",
     "exception": false,
     "start_time": "2024-02-26T03:52:33.340232",
     "status": "completed"
    },
    "tags": []
   },
   "source": [
    "### 3. Transforming Data"
   ]
  },
  {
   "cell_type": "code",
   "execution_count": 256,
   "id": "be73f427-a620-417a-8e0f-9de129bae4ec",
   "metadata": {
    "execution": {
     "iopub.execute_input": "2024-12-06T07:53:20.048435Z",
     "iopub.status.busy": "2024-12-06T07:53:20.047775Z",
     "iopub.status.idle": "2024-12-06T07:53:21.446617Z",
     "shell.execute_reply": "2024-12-06T07:53:21.445890Z",
     "shell.execute_reply.started": "2024-12-06T07:53:20.048397Z"
    },
    "papermill": {
     "duration": 80.075738,
     "end_time": "2024-02-26T03:53:53.437583",
     "exception": false,
     "start_time": "2024-02-26T03:52:33.361845",
     "status": "completed"
    },
    "tags": [],
    "trusted": true
   },
   "outputs": [],
   "source": [
    "train_dataloader, class_names = create_dataloader(data_dir=train_dir, transform=train_transforms)\n",
    "val_dataloader, _ = create_dataloader(data_dir=val_dir, transform=eval_transforms, shuffle=False)\n",
    "test_dataloader, _ = create_dataloader(data_dir=test_dir, transform=eval_transforms, shuffle=False)"
   ]
  },
  {
   "cell_type": "markdown",
   "id": "859d41a8-c098-4d5b-ae12-6e0f2912581c",
   "metadata": {
    "papermill": {
     "duration": 0.011128,
     "end_time": "2024-02-26T03:53:53.460143",
     "exception": false,
     "start_time": "2024-02-26T03:53:53.449015",
     "status": "completed"
    },
    "tags": []
   },
   "source": [
    "### 4. Changing the model head"
   ]
  },
  {
   "cell_type": "code",
   "execution_count": 257,
   "id": "541a8536-418b-4196-bb0a-7c08aa88dab9",
   "metadata": {
    "execution": {
     "iopub.execute_input": "2024-12-06T07:53:21.447972Z",
     "iopub.status.busy": "2024-12-06T07:53:21.447699Z",
     "iopub.status.idle": "2024-12-06T07:53:21.451834Z",
     "shell.execute_reply": "2024-12-06T07:53:21.450943Z",
     "shell.execute_reply.started": "2024-12-06T07:53:21.447946Z"
    },
    "papermill": {
     "duration": 0.017557,
     "end_time": "2024-02-26T03:53:53.488611",
     "exception": false,
     "start_time": "2024-02-26T03:53:53.471054",
     "status": "completed"
    },
    "tags": [],
    "trusted": true
   },
   "outputs": [],
   "source": [
    "# '''Freezing the parameters'''\n",
    "# for param in model.parameters():\n",
    "#     param.requires_grad = False"
   ]
  },
  {
   "cell_type": "code",
   "execution_count": 258,
   "id": "08b38eae-23bb-4b43-9237-f8b2ed267126",
   "metadata": {
    "execution": {
     "iopub.execute_input": "2024-12-06T07:53:21.453602Z",
     "iopub.status.busy": "2024-12-06T07:53:21.453207Z",
     "iopub.status.idle": "2024-12-06T07:53:21.461467Z",
     "shell.execute_reply": "2024-12-06T07:53:21.460734Z",
     "shell.execute_reply.started": "2024-12-06T07:53:21.453562Z"
    },
    "papermill": {
     "duration": 0.024349,
     "end_time": "2024-02-26T03:53:53.523808",
     "exception": false,
     "start_time": "2024-02-26T03:53:53.499459",
     "status": "completed"
    },
    "tags": [],
    "trusted": true
   },
   "outputs": [],
   "source": [
    "# model"
   ]
  },
  {
   "cell_type": "code",
   "execution_count": 259,
   "id": "16e43973-16e4-406b-a5c9-3164851c0614",
   "metadata": {
    "execution": {
     "iopub.execute_input": "2024-12-06T07:53:21.463090Z",
     "iopub.status.busy": "2024-12-06T07:53:21.462730Z",
     "iopub.status.idle": "2024-12-06T07:53:21.473324Z",
     "shell.execute_reply": "2024-12-06T07:53:21.472537Z",
     "shell.execute_reply.started": "2024-12-06T07:53:21.463051Z"
    },
    "papermill": {
     "duration": 0.020825,
     "end_time": "2024-02-26T03:53:53.556201",
     "exception": false,
     "start_time": "2024-02-26T03:53:53.535376",
     "status": "completed"
    },
    "tags": [],
    "trusted": true
   },
   "outputs": [],
   "source": [
    "output_shape = len(class_names)\n",
    "model.classifier = torch.nn.Sequential(\n",
    "    torch.nn.Dropout(p=0.2, inplace=True), \n",
    "    torch.nn.Linear(in_features=1280, \n",
    "                    out_features=output_shape, \n",
    "                    bias=True))"
   ]
  },
  {
   "cell_type": "code",
   "execution_count": 260,
   "id": "c32086c0-1f5b-4d26-a360-72b571cf5398",
   "metadata": {
    "execution": {
     "iopub.execute_input": "2024-12-06T07:53:21.475487Z",
     "iopub.status.busy": "2024-12-06T07:53:21.474646Z",
     "iopub.status.idle": "2024-12-06T07:53:21.482959Z",
     "shell.execute_reply": "2024-12-06T07:53:21.482112Z",
     "shell.execute_reply.started": "2024-12-06T07:53:21.475449Z"
    },
    "papermill": {
     "duration": 0.017707,
     "end_time": "2024-02-26T03:53:53.585635",
     "exception": false,
     "start_time": "2024-02-26T03:53:53.567928",
     "status": "completed"
    },
    "tags": [],
    "trusted": true
   },
   "outputs": [],
   "source": [
    "# model.head.fc = nn.Linear(in_features=768, out_features=len(class_names))\n",
    "# model.head"
   ]
  },
  {
   "cell_type": "code",
   "execution_count": 261,
   "id": "8882ebc7-4bb8-4c94-8e48-a795432f3578",
   "metadata": {
    "execution": {
     "iopub.execute_input": "2024-12-06T07:53:21.484640Z",
     "iopub.status.busy": "2024-12-06T07:53:21.484280Z",
     "iopub.status.idle": "2024-12-06T07:53:21.492797Z",
     "shell.execute_reply": "2024-12-06T07:53:21.491974Z",
     "shell.execute_reply.started": "2024-12-06T07:53:21.484601Z"
    },
    "papermill": {
     "duration": 0.017602,
     "end_time": "2024-02-26T03:53:53.614755",
     "exception": false,
     "start_time": "2024-02-26T03:53:53.597153",
     "status": "completed"
    },
    "tags": [],
    "trusted": true
   },
   "outputs": [],
   "source": [
    "# PATH = '/kaggle/input/banglacharrecognition/models/best_model.pth'\n",
    "# model.load_state_dict(torch.load(PATH))"
   ]
  },
  {
   "cell_type": "code",
   "execution_count": 262,
   "id": "b3538a87-1553-4519-8339-a948fe00af99",
   "metadata": {
    "execution": {
     "iopub.execute_input": "2024-12-06T07:53:21.494596Z",
     "iopub.status.busy": "2024-12-06T07:53:21.494297Z",
     "iopub.status.idle": "2024-12-06T07:53:21.833035Z",
     "shell.execute_reply": "2024-12-06T07:53:21.832133Z",
     "shell.execute_reply.started": "2024-12-06T07:53:21.494570Z"
    },
    "papermill": {
     "duration": 1.192157,
     "end_time": "2024-02-26T03:53:54.818596",
     "exception": false,
     "start_time": "2024-02-26T03:53:53.626439",
     "status": "completed"
    },
    "tags": [],
    "trusted": true
   },
   "outputs": [
    {
     "data": {
      "text/plain": [
       "============================================================================================================================================\n",
       "Layer (type (var_name))                                      Input Shape          Output Shape         Param #              Trainable\n",
       "============================================================================================================================================\n",
       "EfficientNet (EfficientNet)                                  [32, 3, 512, 512]    [32, 64]             --                   True\n",
       "├─Sequential (features)                                      [32, 3, 512, 512]    [32, 1280, 16, 16]   --                   True\n",
       "│    └─Conv2dNormActivation (0)                              [32, 3, 512, 512]    [32, 32, 256, 256]   --                   True\n",
       "│    │    └─Conv2d (0)                                       [32, 3, 512, 512]    [32, 32, 256, 256]   864                  True\n",
       "│    │    └─BatchNorm2d (1)                                  [32, 32, 256, 256]   [32, 32, 256, 256]   64                   True\n",
       "│    │    └─SiLU (2)                                         [32, 32, 256, 256]   [32, 32, 256, 256]   --                   --\n",
       "│    └─Sequential (1)                                        [32, 32, 256, 256]   [32, 16, 256, 256]   --                   True\n",
       "│    │    └─MBConv (0)                                       [32, 32, 256, 256]   [32, 16, 256, 256]   1,448                True\n",
       "│    └─Sequential (2)                                        [32, 16, 256, 256]   [32, 24, 128, 128]   --                   True\n",
       "│    │    └─MBConv (0)                                       [32, 16, 256, 256]   [32, 24, 128, 128]   6,004                True\n",
       "│    │    └─MBConv (1)                                       [32, 24, 128, 128]   [32, 24, 128, 128]   10,710               True\n",
       "│    └─Sequential (3)                                        [32, 24, 128, 128]   [32, 40, 64, 64]     --                   True\n",
       "│    │    └─MBConv (0)                                       [32, 24, 128, 128]   [32, 40, 64, 64]     15,350               True\n",
       "│    │    └─MBConv (1)                                       [32, 40, 64, 64]     [32, 40, 64, 64]     31,290               True\n",
       "│    └─Sequential (4)                                        [32, 40, 64, 64]     [32, 80, 32, 32]     --                   True\n",
       "│    │    └─MBConv (0)                                       [32, 40, 64, 64]     [32, 80, 32, 32]     37,130               True\n",
       "│    │    └─MBConv (1)                                       [32, 80, 32, 32]     [32, 80, 32, 32]     102,900              True\n",
       "│    │    └─MBConv (2)                                       [32, 80, 32, 32]     [32, 80, 32, 32]     102,900              True\n",
       "│    └─Sequential (5)                                        [32, 80, 32, 32]     [32, 112, 32, 32]    --                   True\n",
       "│    │    └─MBConv (0)                                       [32, 80, 32, 32]     [32, 112, 32, 32]    126,004              True\n",
       "│    │    └─MBConv (1)                                       [32, 112, 32, 32]    [32, 112, 32, 32]    208,572              True\n",
       "│    │    └─MBConv (2)                                       [32, 112, 32, 32]    [32, 112, 32, 32]    208,572              True\n",
       "│    └─Sequential (6)                                        [32, 112, 32, 32]    [32, 192, 16, 16]    --                   True\n",
       "│    │    └─MBConv (0)                                       [32, 112, 32, 32]    [32, 192, 16, 16]    262,492              True\n",
       "│    │    └─MBConv (1)                                       [32, 192, 16, 16]    [32, 192, 16, 16]    587,952              True\n",
       "│    │    └─MBConv (2)                                       [32, 192, 16, 16]    [32, 192, 16, 16]    587,952              True\n",
       "│    │    └─MBConv (3)                                       [32, 192, 16, 16]    [32, 192, 16, 16]    587,952              True\n",
       "│    └─Sequential (7)                                        [32, 192, 16, 16]    [32, 320, 16, 16]    --                   True\n",
       "│    │    └─MBConv (0)                                       [32, 192, 16, 16]    [32, 320, 16, 16]    717,232              True\n",
       "│    └─Conv2dNormActivation (8)                              [32, 320, 16, 16]    [32, 1280, 16, 16]   --                   True\n",
       "│    │    └─Conv2d (0)                                       [32, 320, 16, 16]    [32, 1280, 16, 16]   409,600              True\n",
       "│    │    └─BatchNorm2d (1)                                  [32, 1280, 16, 16]   [32, 1280, 16, 16]   2,560                True\n",
       "│    │    └─SiLU (2)                                         [32, 1280, 16, 16]   [32, 1280, 16, 16]   --                   --\n",
       "├─AdaptiveAvgPool2d (avgpool)                                [32, 1280, 16, 16]   [32, 1280, 1, 1]     --                   --\n",
       "├─Sequential (classifier)                                    [32, 1280]           [32, 64]             --                   True\n",
       "│    └─Dropout (0)                                           [32, 1280]           [32, 1280]           --                   --\n",
       "│    └─Linear (1)                                            [32, 1280]           [32, 64]             81,984               True\n",
       "============================================================================================================================================\n",
       "Total params: 4,089,532\n",
       "Trainable params: 4,089,532\n",
       "Non-trainable params: 0\n",
       "Total mult-adds (G): 64.21\n",
       "============================================================================================================================================\n",
       "Input size (MB): 100.66\n",
       "Forward/backward pass size (MB): 18025.33\n",
       "Params size (MB): 16.36\n",
       "Estimated Total Size (MB): 18142.35\n",
       "============================================================================================================================================"
      ]
     },
     "execution_count": 262,
     "metadata": {},
     "output_type": "execute_result"
    }
   ],
   "source": [
    "summary(model, \n",
    "        input_size=(32, 3, 512, 512), # (batch_size, color_channels, height, width)\n",
    "        verbose=0,\n",
    "        col_names=[\"input_size\", \"output_size\", \"num_params\", \"trainable\"],\n",
    "        col_width=20,\n",
    "        row_settings=[\"var_names\"]\n",
    ")"
   ]
  },
  {
   "cell_type": "code",
   "execution_count": 263,
   "id": "89c00685-3837-4e57-ab83-4aa6d371f466",
   "metadata": {
    "execution": {
     "iopub.execute_input": "2024-12-06T07:53:21.834990Z",
     "iopub.status.busy": "2024-12-06T07:53:21.834270Z",
     "iopub.status.idle": "2024-12-06T07:53:21.842139Z",
     "shell.execute_reply": "2024-12-06T07:53:21.841429Z",
     "shell.execute_reply.started": "2024-12-06T07:53:21.834948Z"
    },
    "papermill": {
     "duration": 0.023175,
     "end_time": "2024-02-26T03:53:54.854193",
     "exception": false,
     "start_time": "2024-02-26T03:53:54.831018",
     "status": "completed"
    },
    "tags": [],
    "trusted": true
   },
   "outputs": [],
   "source": [
    "model = model.to(device)"
   ]
  },
  {
   "cell_type": "markdown",
   "id": "5a9fa0fb-d268-4c2b-9de1-8d336b4bcdb7",
   "metadata": {
    "papermill": {
     "duration": 0.011482,
     "end_time": "2024-02-26T03:53:54.877833",
     "exception": false,
     "start_time": "2024-02-26T03:53:54.866351",
     "status": "completed"
    },
    "tags": []
   },
   "source": [
    "### 5. Defining loss and optimizer"
   ]
  },
  {
   "cell_type": "code",
   "execution_count": 264,
   "id": "bac41eec-2dda-4746-a733-18b52f202f8e",
   "metadata": {
    "execution": {
     "iopub.execute_input": "2024-12-06T07:53:21.843435Z",
     "iopub.status.busy": "2024-12-06T07:53:21.843155Z",
     "iopub.status.idle": "2024-12-06T07:53:21.855449Z",
     "shell.execute_reply": "2024-12-06T07:53:21.854724Z",
     "shell.execute_reply.started": "2024-12-06T07:53:21.843409Z"
    },
    "papermill": {
     "duration": 0.020298,
     "end_time": "2024-02-26T03:53:54.910077",
     "exception": false,
     "start_time": "2024-02-26T03:53:54.889779",
     "status": "completed"
    },
    "tags": [],
    "trusted": true
   },
   "outputs": [],
   "source": [
    "loss_fn = nn.CrossEntropyLoss()\n",
    "optimizer = torch.optim.Adam(model.parameters(), lr=0.001)"
   ]
  },
  {
   "cell_type": "markdown",
   "id": "1e6df03e-c203-43fa-a188-305576df0f0e",
   "metadata": {
    "papermill": {
     "duration": 0.01168,
     "end_time": "2024-02-26T03:53:54.933721",
     "exception": false,
     "start_time": "2024-02-26T03:53:54.922041",
     "status": "completed"
    },
    "tags": []
   },
   "source": [
    "### 6. Perfomance metrics"
   ]
  },
  {
   "cell_type": "code",
   "execution_count": 265,
   "id": "53cb8ca4-6fde-4232-820b-2df4eb3bd186",
   "metadata": {
    "execution": {
     "iopub.execute_input": "2024-12-06T07:53:21.857058Z",
     "iopub.status.busy": "2024-12-06T07:53:21.856803Z",
     "iopub.status.idle": "2024-12-06T07:53:21.865131Z",
     "shell.execute_reply": "2024-12-06T07:53:21.864437Z",
     "shell.execute_reply.started": "2024-12-06T07:53:21.857034Z"
    },
    "papermill": {
     "duration": 1.616031,
     "end_time": "2024-02-26T03:53:56.562212",
     "exception": false,
     "start_time": "2024-02-26T03:53:54.946181",
     "status": "completed"
    },
    "tags": [],
    "trusted": true
   },
   "outputs": [],
   "source": [
    "from torchmetrics import Accuracy, Precision, Recall, F1Score, ConfusionMatrix\n",
    "from torchmetrics import Metric\n",
    "\n",
    "class PerformanceMetric:\n",
    "    def __init__(self, num_classes):\n",
    "        self.num_classes = num_classes\n",
    "        self.accuracy = Accuracy(task=\"multiclass\", num_classes=num_classes)\n",
    "        self.precision = Precision(task=\"multiclass\", num_classes=num_classes, average='macro')\n",
    "        self.recall = Recall(task=\"multiclass\", num_classes=num_classes, average='macro')\n",
    "        self.f1 = F1Score(task=\"multiclass\", num_classes=num_classes, average='macro')\n",
    "        self.confusion_matrix = ConfusionMatrix(task=\"multiclass\", num_classes=num_classes)\n",
    "\n",
    "    def update(self, predictions, targets):\n",
    "        self.accuracy.update(predictions, targets)\n",
    "        self.precision.update(predictions, targets)\n",
    "        self.recall.update(predictions, targets)\n",
    "        self.f1.update(predictions, targets)\n",
    "        self.confusion_matrix.update(predictions, targets)\n",
    "\n",
    "    def compute(self):\n",
    "        accuracy = self.accuracy.compute().item()\n",
    "        precision = self.precision.compute().item()\n",
    "        recall = self.recall.compute().item()\n",
    "        f1 = self.f1.compute().item()\n",
    "        confusion_matrix = self.confusion_matrix.compute().cpu()\n",
    "\n",
    "        return accuracy, precision, recall, f1, confusion_matrix\n",
    "\n",
    "    def reset(self):\n",
    "        self.accuracy.reset()\n",
    "        self.precision.reset()\n",
    "        self.recall.reset()\n",
    "        self.f1.reset()\n",
    "        self.confusion_matrix.reset()\n"
   ]
  },
  {
   "cell_type": "markdown",
   "id": "2795c5fd-9a05-47f2-ba63-8a2d22c2006b",
   "metadata": {
    "papermill": {
     "duration": 0.011762,
     "end_time": "2024-02-26T03:53:56.586784",
     "exception": false,
     "start_time": "2024-02-26T03:53:56.575022",
     "status": "completed"
    },
    "tags": []
   },
   "source": [
    "### 7. Training"
   ]
  },
  {
   "cell_type": "code",
   "execution_count": 266,
   "id": "804af054-da2d-4390-973c-2b3501223b0f",
   "metadata": {
    "execution": {
     "iopub.execute_input": "2024-12-06T07:53:21.868804Z",
     "iopub.status.busy": "2024-12-06T07:53:21.868527Z",
     "iopub.status.idle": "2024-12-06T07:53:30.302589Z",
     "shell.execute_reply": "2024-12-06T07:53:30.301628Z",
     "shell.execute_reply.started": "2024-12-06T07:53:21.868779Z"
    },
    "papermill": {
     "duration": 0.018501,
     "end_time": "2024-02-26T03:53:56.617169",
     "exception": false,
     "start_time": "2024-02-26T03:53:56.598668",
     "status": "completed"
    },
    "tags": [],
    "trusted": true
   },
   "outputs": [
    {
     "name": "stdout",
     "output_type": "stream",
     "text": [
      "Requirement already satisfied: torchmetrics in /opt/conda/lib/python3.10/site-packages (1.4.2)\n",
      "Requirement already satisfied: numpy>1.20.0 in /opt/conda/lib/python3.10/site-packages (from torchmetrics) (1.26.4)\n",
      "Requirement already satisfied: packaging>17.1 in /opt/conda/lib/python3.10/site-packages (from torchmetrics) (21.3)\n",
      "Requirement already satisfied: torch>=1.10.0 in /opt/conda/lib/python3.10/site-packages (from torchmetrics) (2.4.0)\n",
      "Requirement already satisfied: lightning-utilities>=0.8.0 in /opt/conda/lib/python3.10/site-packages (from torchmetrics) (0.11.7)\n",
      "Requirement already satisfied: setuptools in /opt/conda/lib/python3.10/site-packages (from lightning-utilities>=0.8.0->torchmetrics) (70.0.0)\n",
      "Requirement already satisfied: typing-extensions in /opt/conda/lib/python3.10/site-packages (from lightning-utilities>=0.8.0->torchmetrics) (4.12.2)\n",
      "Requirement already satisfied: pyparsing!=3.0.5,>=2.0.2 in /opt/conda/lib/python3.10/site-packages (from packaging>17.1->torchmetrics) (3.1.2)\n",
      "Requirement already satisfied: filelock in /opt/conda/lib/python3.10/site-packages (from torch>=1.10.0->torchmetrics) (3.15.1)\n",
      "Requirement already satisfied: sympy in /opt/conda/lib/python3.10/site-packages (from torch>=1.10.0->torchmetrics) (1.13.3)\n",
      "Requirement already satisfied: networkx in /opt/conda/lib/python3.10/site-packages (from torch>=1.10.0->torchmetrics) (3.3)\n",
      "Requirement already satisfied: jinja2 in /opt/conda/lib/python3.10/site-packages (from torch>=1.10.0->torchmetrics) (3.1.4)\n",
      "Requirement already satisfied: fsspec in /opt/conda/lib/python3.10/site-packages (from torch>=1.10.0->torchmetrics) (2024.6.1)\n",
      "Requirement already satisfied: MarkupSafe>=2.0 in /opt/conda/lib/python3.10/site-packages (from jinja2->torch>=1.10.0->torchmetrics) (2.1.5)\n",
      "Requirement already satisfied: mpmath<1.4,>=1.1.0 in /opt/conda/lib/python3.10/site-packages (from sympy->torch>=1.10.0->torchmetrics) (1.3.0)\n"
     ]
    }
   ],
   "source": [
    "!pip install torchmetrics"
   ]
  },
  {
   "cell_type": "code",
   "execution_count": 267,
   "id": "b028111b-cb73-4132-b69b-b249bcdfac55",
   "metadata": {
    "execution": {
     "iopub.execute_input": "2024-12-06T07:53:30.304651Z",
     "iopub.status.busy": "2024-12-06T07:53:30.304245Z",
     "iopub.status.idle": "2024-12-06T07:53:30.309773Z",
     "shell.execute_reply": "2024-12-06T07:53:30.308992Z",
     "shell.execute_reply.started": "2024-12-06T07:53:30.304608Z"
    },
    "papermill": {
     "duration": 0.018278,
     "end_time": "2024-02-26T03:53:56.647190",
     "exception": false,
     "start_time": "2024-02-26T03:53:56.628912",
     "status": "completed"
    },
    "tags": [],
    "trusted": true
   },
   "outputs": [],
   "source": [
    "from tqdm.auto import tqdm\n",
    "from typing import Dict, List, Tuple"
   ]
  },
  {
   "cell_type": "code",
   "execution_count": 268,
   "id": "80f6129d-5308-4c0b-962f-1dd45f01c950",
   "metadata": {
    "execution": {
     "iopub.execute_input": "2024-12-06T07:53:30.311239Z",
     "iopub.status.busy": "2024-12-06T07:53:30.310966Z",
     "iopub.status.idle": "2024-12-06T07:53:30.322380Z",
     "shell.execute_reply": "2024-12-06T07:53:30.321486Z",
     "shell.execute_reply.started": "2024-12-06T07:53:30.311214Z"
    },
    "papermill": {
     "duration": 0.023761,
     "end_time": "2024-02-26T03:53:56.684043",
     "exception": false,
     "start_time": "2024-02-26T03:53:56.660282",
     "status": "completed"
    },
    "tags": [],
    "trusted": true
   },
   "outputs": [],
   "source": [
    "def train_step(model: torch.nn.Module, \n",
    "               num_classes: int,\n",
    "               dataloader: torch.utils.data.DataLoader, \n",
    "               loss_fn: torch.nn.Module, \n",
    "               optimizer: torch.optim.Optimizer,\n",
    "               device: torch.device):\n",
    "    \n",
    "    model.train()\n",
    "    \n",
    "    train_loss = 0    \n",
    "    metrics = PerformanceMetric(num_classes)\n",
    "    \n",
    "    for batch, (X, y) in enumerate(dataloader):\n",
    "        X, y = X.to(device), y.to(device)\n",
    "        \n",
    "        y_pred = model(X)\n",
    "        \n",
    "        loss = loss_fn(y_pred, y)\n",
    "        train_loss += loss.item()\n",
    "        \n",
    "        optimizer.zero_grad()        \n",
    "        loss.backward()        \n",
    "        optimizer.step()\n",
    "        \n",
    "        y_pred_class = torch.argmax(torch.softmax(y_pred, dim=1), dim=1)\n",
    "        \n",
    "        metrics.update(y_pred_class.cpu(), y.cpu())\n",
    "\n",
    "    train_loss = train_loss / len(dataloader)\n",
    "    train_acc, train_precision, train_recall, train_f1, train_confusion_matrix = metrics.compute()\n",
    "    \n",
    "    metrics.reset()\n",
    "    \n",
    "    return train_loss, train_acc, train_precision, train_recall, train_f1, train_confusion_matrix"
   ]
  },
  {
   "cell_type": "code",
   "execution_count": 269,
   "id": "dad023c9-a1a1-4233-bf44-e2a5c0f6b1d7",
   "metadata": {
    "execution": {
     "iopub.execute_input": "2024-12-06T07:53:30.323798Z",
     "iopub.status.busy": "2024-12-06T07:53:30.323511Z",
     "iopub.status.idle": "2024-12-06T07:53:30.334526Z",
     "shell.execute_reply": "2024-12-06T07:53:30.333715Z",
     "shell.execute_reply.started": "2024-12-06T07:53:30.323773Z"
    },
    "papermill": {
     "duration": 0.021779,
     "end_time": "2024-02-26T03:53:56.717520",
     "exception": false,
     "start_time": "2024-02-26T03:53:56.695741",
     "status": "completed"
    },
    "tags": [],
    "trusted": true
   },
   "outputs": [],
   "source": [
    "def test_step(model: torch.nn.Module, \n",
    "              num_classes: int,\n",
    "              dataloader: torch.utils.data.DataLoader, \n",
    "              loss_fn: torch.nn.Module,\n",
    "              device: torch.device):\n",
    "\n",
    "    model.eval()\n",
    "    \n",
    "    test_loss = 0\n",
    "    metrics = PerformanceMetric(num_classes)\n",
    "\n",
    "    with torch.inference_mode():\n",
    "        for batch, (X, y) in enumerate(dataloader):\n",
    "            X, y = X.to(device), y.to(device)\n",
    "\n",
    "            test_pred_logits = model(X)\n",
    "\n",
    "            loss = loss_fn(test_pred_logits, y)\n",
    "            test_loss += loss.item()\n",
    "            \n",
    "            test_pred_labels = test_pred_logits.argmax(dim=1)\n",
    "            metrics.update(test_pred_labels.cpu(), y.cpu())\n",
    "\n",
    "    test_loss = test_loss / len(dataloader)\n",
    "    test_acc, test_precision, test_recall, test_f1, test_confusion_matrix = metrics.compute()\n",
    "    \n",
    "    metrics.reset()\n",
    "    \n",
    "    return test_loss, test_acc, test_precision, test_recall, test_f1, test_confusion_matrix"
   ]
  },
  {
   "cell_type": "code",
   "execution_count": 270,
   "id": "6ea02ff9-ade6-4ae5-bc91-05961b251c10",
   "metadata": {
    "execution": {
     "iopub.execute_input": "2024-12-06T07:53:30.335787Z",
     "iopub.status.busy": "2024-12-06T07:53:30.335536Z",
     "iopub.status.idle": "2024-12-06T07:53:30.344196Z",
     "shell.execute_reply": "2024-12-06T07:53:30.343406Z",
     "shell.execute_reply.started": "2024-12-06T07:53:30.335763Z"
    },
    "papermill": {
     "duration": 0.020285,
     "end_time": "2024-02-26T03:53:56.749592",
     "exception": false,
     "start_time": "2024-02-26T03:53:56.729307",
     "status": "completed"
    },
    "tags": [],
    "trusted": true
   },
   "outputs": [],
   "source": [
    "from pathlib import Path\n",
    "\n",
    "def save_model(model: torch.nn.Module, target_dir: str, model_name: str):\n",
    "    target_dir_path = Path(target_dir)\n",
    "    target_dir_path.mkdir(parents=True,\n",
    "                        exist_ok=True)\n",
    "\n",
    "    assert model_name.endswith(\".pth\") or model_name.endswith(\".pt\"), \"model_name should end with '.pt' or '.pth'\"\n",
    "    model_save_path = target_dir_path / model_name\n",
    "\n",
    "  \n",
    "    print(f\"[INFO] Saving model to: {model_save_path}\")\n",
    "    torch.save(obj=model.state_dict(), f=model_save_path)"
   ]
  },
  {
   "cell_type": "code",
   "execution_count": 271,
   "id": "fd52a749-c751-4a07-9ffa-aebcf385f4f2",
   "metadata": {
    "execution": {
     "iopub.execute_input": "2024-12-06T07:53:30.345776Z",
     "iopub.status.busy": "2024-12-06T07:53:30.345467Z",
     "iopub.status.idle": "2024-12-06T07:53:30.358156Z",
     "shell.execute_reply": "2024-12-06T07:53:30.357346Z",
     "shell.execute_reply.started": "2024-12-06T07:53:30.345735Z"
    },
    "papermill": {
     "duration": 0.026768,
     "end_time": "2024-02-26T03:53:56.788243",
     "exception": false,
     "start_time": "2024-02-26T03:53:56.761475",
     "status": "completed"
    },
    "tags": [],
    "trusted": true
   },
   "outputs": [],
   "source": [
    "def train(model: torch.nn.Module,\n",
    "          num_classes: int,\n",
    "          train_dataloader: torch.utils.data.DataLoader, \n",
    "          test_dataloader: torch.utils.data.DataLoader, \n",
    "          optimizer: torch.optim.Optimizer,\n",
    "          loss_fn: torch.nn.Module,\n",
    "          epochs: int,\n",
    "          device: torch.device):\n",
    "    \n",
    "    results = {\"train_loss\": [], \"train_acc\": [], \"train_precision\": [], \"train_recall\": [], \"train_f1\": [],\n",
    "              \"valid_loss\": [], \"valid_acc\": [], \"valid_precision\": [], \"valid_recall\": [], \"valid_f1\": []}\n",
    "    \n",
    "    curr_best_model = model\n",
    "    curr_loss = 10\n",
    "    \n",
    "    for epoch in tqdm(range(epochs)):\n",
    "        train_loss, train_acc, train_precision, train_recall, train_f1, train_confusion_matrix = train_step(model=model,\n",
    "                                                                                                        num_classes=num_classes,\n",
    "                                                                                                        dataloader=train_dataloader,\n",
    "                                                                                                        loss_fn=loss_fn,\n",
    "                                                                                                        optimizer=optimizer,\n",
    "                                                                                                        device=device)\n",
    "        test_loss, test_acc, test_precision, test_recall, test_f1, test_confusion_matrix = test_step(model=model,\n",
    "                                                                                                        num_classes=num_classes,\n",
    "                                                                                                        dataloader=test_dataloader,\n",
    "                                                                                                        loss_fn=loss_fn,\n",
    "                                                                                                        device=device)\n",
    "        \n",
    "        if test_loss < curr_loss:\n",
    "            curr_best_model = model\n",
    "            curr_loss = test_loss\n",
    "            print('i am added in checkpoint ')\n",
    "\n",
    "        print(f\"Epoch: {epoch+1} | \" \n",
    "                f\"train_loss: {train_loss:.4f} | \" \n",
    "                f\"train_acc: {train_acc:.4f} | \" \n",
    "                f\"valid_loss: {test_loss:.4f} | \" \n",
    "                f\"valid_acc: {test_acc:.4f}\")\n",
    "\n",
    "        results[\"train_loss\"].append(train_loss)\n",
    "        results[\"train_acc\"].append(train_acc)\n",
    "        results[\"train_precision\"].append(train_precision)\n",
    "        results[\"train_recall\"].append(train_recall)\n",
    "        results[\"train_f1\"].append(train_f1)\n",
    "        results[\"valid_loss\"].append(test_loss)\n",
    "        results[\"valid_acc\"].append(test_acc)\n",
    "        results[\"valid_precision\"].append(test_precision)\n",
    "        results[\"valid_recall\"].append(test_recall)\n",
    "        results[\"valid_f1\"].append(test_f1)\n",
    "        \n",
    "    save_model(model=curr_best_model, target_dir='models', model_name='best_model.pth')\n",
    "\n",
    "    return results"
   ]
  },
  {
   "cell_type": "code",
   "execution_count": 272,
   "id": "18365298-45de-4ee5-9767-425151bd0ad0",
   "metadata": {
    "execution": {
     "iopub.execute_input": "2024-12-06T07:53:30.359403Z",
     "iopub.status.busy": "2024-12-06T07:53:30.359135Z",
     "iopub.status.idle": "2024-12-06T08:10:26.012689Z",
     "shell.execute_reply": "2024-12-06T08:10:26.011653Z",
     "shell.execute_reply.started": "2024-12-06T07:53:30.359380Z"
    },
    "papermill": {
     "duration": 7571.089036,
     "end_time": "2024-02-26T06:00:07.889359",
     "exception": false,
     "start_time": "2024-02-26T03:53:56.800323",
     "status": "completed"
    },
    "tags": [],
    "trusted": true
   },
   "outputs": [
    {
     "data": {
      "application/vnd.jupyter.widget-view+json": {
       "model_id": "d9a541f7111d4774bec5f50b9aa2ab4a",
       "version_major": 2,
       "version_minor": 0
      },
      "text/plain": [
       "  0%|          | 0/60 [00:00<?, ?it/s]"
      ]
     },
     "metadata": {},
     "output_type": "display_data"
    },
    {
     "name": "stdout",
     "output_type": "stream",
     "text": [
      "i am added in checkpoint \n",
      "Epoch: 1 | train_loss: 2.6546 | train_acc: 0.3025 | valid_loss: 1.2009 | valid_acc: 0.6295\n",
      "i am added in checkpoint \n",
      "Epoch: 2 | train_loss: 0.9200 | train_acc: 0.7224 | valid_loss: 0.5848 | valid_acc: 0.8214\n",
      "i am added in checkpoint \n",
      "Epoch: 3 | train_loss: 0.4871 | train_acc: 0.8488 | valid_loss: 0.4689 | valid_acc: 0.8594\n",
      "i am added in checkpoint \n",
      "Epoch: 4 | train_loss: 0.3505 | train_acc: 0.8970 | valid_loss: 0.4530 | valid_acc: 0.8504\n",
      "i am added in checkpoint \n",
      "Epoch: 5 | train_loss: 0.2657 | train_acc: 0.9194 | valid_loss: 0.4422 | valid_acc: 0.8638\n",
      "Epoch: 6 | train_loss: 0.2316 | train_acc: 0.9247 | valid_loss: 0.5440 | valid_acc: 0.8348\n",
      "i am added in checkpoint \n",
      "Epoch: 7 | train_loss: 0.2011 | train_acc: 0.9344 | valid_loss: 0.3428 | valid_acc: 0.8839\n",
      "Epoch: 8 | train_loss: 0.1247 | train_acc: 0.9593 | valid_loss: 0.4303 | valid_acc: 0.8594\n",
      "Epoch: 9 | train_loss: 0.1380 | train_acc: 0.9545 | valid_loss: 0.3737 | valid_acc: 0.8750\n",
      "Epoch: 10 | train_loss: 0.1412 | train_acc: 0.9562 | valid_loss: 0.3927 | valid_acc: 0.8661\n",
      "Epoch: 11 | train_loss: 0.1404 | train_acc: 0.9556 | valid_loss: 0.4078 | valid_acc: 0.8594\n",
      "Epoch: 12 | train_loss: 0.1019 | train_acc: 0.9693 | valid_loss: 0.4074 | valid_acc: 0.8750\n",
      "Epoch: 13 | train_loss: 0.0734 | train_acc: 0.9749 | valid_loss: 0.4969 | valid_acc: 0.8638\n",
      "Epoch: 14 | train_loss: 0.1065 | train_acc: 0.9676 | valid_loss: 0.4514 | valid_acc: 0.8772\n",
      "Epoch: 15 | train_loss: 0.0693 | train_acc: 0.9807 | valid_loss: 0.4761 | valid_acc: 0.8750\n",
      "Epoch: 16 | train_loss: 0.0915 | train_acc: 0.9713 | valid_loss: 0.6190 | valid_acc: 0.8616\n",
      "Epoch: 17 | train_loss: 0.1083 | train_acc: 0.9654 | valid_loss: 0.5013 | valid_acc: 0.8705\n",
      "Epoch: 18 | train_loss: 0.1047 | train_acc: 0.9682 | valid_loss: 0.5083 | valid_acc: 0.8839\n",
      "Epoch: 19 | train_loss: 0.0655 | train_acc: 0.9802 | valid_loss: 0.4951 | valid_acc: 0.8772\n",
      "Epoch: 20 | train_loss: 0.0646 | train_acc: 0.9794 | valid_loss: 0.4447 | valid_acc: 0.8795\n",
      "Epoch: 21 | train_loss: 0.0618 | train_acc: 0.9805 | valid_loss: 0.4399 | valid_acc: 0.8906\n",
      "Epoch: 22 | train_loss: 0.0438 | train_acc: 0.9860 | valid_loss: 0.3686 | valid_acc: 0.8996\n",
      "Epoch: 23 | train_loss: 0.0462 | train_acc: 0.9874 | valid_loss: 0.4685 | valid_acc: 0.8795\n",
      "Epoch: 24 | train_loss: 0.0835 | train_acc: 0.9729 | valid_loss: 0.4951 | valid_acc: 0.8795\n",
      "Epoch: 25 | train_loss: 0.0766 | train_acc: 0.9763 | valid_loss: 0.5468 | valid_acc: 0.8571\n",
      "Epoch: 26 | train_loss: 0.0673 | train_acc: 0.9791 | valid_loss: 0.4267 | valid_acc: 0.8839\n",
      "Epoch: 27 | train_loss: 0.0392 | train_acc: 0.9866 | valid_loss: 0.4852 | valid_acc: 0.8705\n",
      "Epoch: 28 | train_loss: 0.0437 | train_acc: 0.9866 | valid_loss: 0.3742 | valid_acc: 0.9085\n",
      "Epoch: 29 | train_loss: 0.0834 | train_acc: 0.9721 | valid_loss: 0.3940 | valid_acc: 0.8750\n",
      "Epoch: 30 | train_loss: 0.0504 | train_acc: 0.9816 | valid_loss: 0.4165 | valid_acc: 0.9085\n",
      "Epoch: 31 | train_loss: 0.0708 | train_acc: 0.9774 | valid_loss: 0.4936 | valid_acc: 0.8906\n",
      "Epoch: 32 | train_loss: 0.0568 | train_acc: 0.9805 | valid_loss: 0.4754 | valid_acc: 0.8795\n",
      "Epoch: 33 | train_loss: 0.0419 | train_acc: 0.9852 | valid_loss: 0.4724 | valid_acc: 0.8705\n",
      "Epoch: 34 | train_loss: 0.0473 | train_acc: 0.9835 | valid_loss: 0.5034 | valid_acc: 0.8571\n",
      "Epoch: 35 | train_loss: 0.0334 | train_acc: 0.9905 | valid_loss: 0.3626 | valid_acc: 0.9152\n",
      "Epoch: 36 | train_loss: 0.0224 | train_acc: 0.9930 | valid_loss: 0.4300 | valid_acc: 0.9107\n",
      "Epoch: 37 | train_loss: 0.0381 | train_acc: 0.9860 | valid_loss: 0.5138 | valid_acc: 0.8862\n",
      "Epoch: 38 | train_loss: 0.0573 | train_acc: 0.9799 | valid_loss: 0.6340 | valid_acc: 0.8683\n",
      "Epoch: 39 | train_loss: 0.0845 | train_acc: 0.9735 | valid_loss: 0.5838 | valid_acc: 0.8705\n",
      "Epoch: 40 | train_loss: 0.0519 | train_acc: 0.9813 | valid_loss: 0.4009 | valid_acc: 0.8996\n",
      "Epoch: 41 | train_loss: 0.0204 | train_acc: 0.9941 | valid_loss: 0.3578 | valid_acc: 0.9152\n",
      "Epoch: 42 | train_loss: 0.0106 | train_acc: 0.9972 | valid_loss: 0.3746 | valid_acc: 0.9107\n",
      "Epoch: 43 | train_loss: 0.0074 | train_acc: 0.9980 | valid_loss: 0.4621 | valid_acc: 0.9085\n",
      "Epoch: 44 | train_loss: 0.0210 | train_acc: 0.9933 | valid_loss: 0.5647 | valid_acc: 0.8795\n",
      "Epoch: 45 | train_loss: 0.0373 | train_acc: 0.9880 | valid_loss: 0.5906 | valid_acc: 0.8728\n",
      "Epoch: 46 | train_loss: 0.0924 | train_acc: 0.9676 | valid_loss: 0.5552 | valid_acc: 0.8750\n",
      "Epoch: 47 | train_loss: 0.0310 | train_acc: 0.9902 | valid_loss: 0.4481 | valid_acc: 0.8817\n",
      "Epoch: 48 | train_loss: 0.0216 | train_acc: 0.9936 | valid_loss: 0.4125 | valid_acc: 0.8884\n",
      "Epoch: 49 | train_loss: 0.0366 | train_acc: 0.9886 | valid_loss: 0.4134 | valid_acc: 0.9085\n",
      "Epoch: 50 | train_loss: 0.0333 | train_acc: 0.9883 | valid_loss: 0.4773 | valid_acc: 0.8884\n",
      "Epoch: 51 | train_loss: 0.0338 | train_acc: 0.9916 | valid_loss: 0.4392 | valid_acc: 0.8951\n",
      "Epoch: 52 | train_loss: 0.0245 | train_acc: 0.9916 | valid_loss: 0.4215 | valid_acc: 0.8884\n",
      "Epoch: 53 | train_loss: 0.0159 | train_acc: 0.9964 | valid_loss: 0.4302 | valid_acc: 0.8951\n",
      "Epoch: 54 | train_loss: 0.0111 | train_acc: 0.9986 | valid_loss: 0.4158 | valid_acc: 0.8996\n",
      "Epoch: 55 | train_loss: 0.0321 | train_acc: 0.9919 | valid_loss: 0.7811 | valid_acc: 0.8705\n",
      "Epoch: 56 | train_loss: 0.0716 | train_acc: 0.9763 | valid_loss: 0.5750 | valid_acc: 0.8705\n",
      "Epoch: 57 | train_loss: 0.0532 | train_acc: 0.9819 | valid_loss: 0.6050 | valid_acc: 0.8795\n",
      "Epoch: 58 | train_loss: 0.0532 | train_acc: 0.9802 | valid_loss: 0.5563 | valid_acc: 0.8817\n",
      "Epoch: 59 | train_loss: 0.0403 | train_acc: 0.9869 | valid_loss: 0.4625 | valid_acc: 0.8906\n",
      "Epoch: 60 | train_loss: 0.0225 | train_acc: 0.9930 | valid_loss: 0.4087 | valid_acc: 0.9040\n",
      "[INFO] Saving model to: models/best_model.pth\n",
      "[INFO] Total training time: 1015.639 seconds\n"
     ]
    }
   ],
   "source": [
    "EPOCHS = 60\n",
    "\n",
    "# Start the timer\n",
    "from timeit import default_timer as timer \n",
    "start_time = timer()\n",
    "\n",
    "results = train(model=model,\n",
    "                num_classes=len(class_names),\n",
    "                train_dataloader=train_dataloader,\n",
    "                test_dataloader=val_dataloader,\n",
    "                optimizer=optimizer,\n",
    "                loss_fn=loss_fn,\n",
    "                epochs=EPOCHS,\n",
    "                device=device)\n",
    "\n",
    "# End the timer and print out how long it took\n",
    "end_time = timer()\n",
    "print(f\"[INFO] Total training time: {end_time-start_time:.3f} seconds\")"
   ]
  },
  {
   "cell_type": "markdown",
   "id": "d7fb7c7d-35d0-4afc-936e-497351f43f2d",
   "metadata": {
    "papermill": {
     "duration": 0.012907,
     "end_time": "2024-02-26T06:00:07.916130",
     "exception": false,
     "start_time": "2024-02-26T06:00:07.903223",
     "status": "completed"
    },
    "tags": []
   },
   "source": [
    "### 7. saving the metrics"
   ]
  },
  {
   "cell_type": "code",
   "execution_count": 273,
   "id": "cc29b776-853f-408b-ab8f-2a382fd05a48",
   "metadata": {
    "execution": {
     "iopub.execute_input": "2024-12-06T08:10:26.015202Z",
     "iopub.status.busy": "2024-12-06T08:10:26.014408Z",
     "iopub.status.idle": "2024-12-06T08:10:26.020324Z",
     "shell.execute_reply": "2024-12-06T08:10:26.019493Z",
     "shell.execute_reply.started": "2024-12-06T08:10:26.015132Z"
    },
    "papermill": {
     "duration": 0.022692,
     "end_time": "2024-02-26T06:00:07.951906",
     "exception": false,
     "start_time": "2024-02-26T06:00:07.929214",
     "status": "completed"
    },
    "tags": [],
    "trusted": true
   },
   "outputs": [],
   "source": [
    "import csv\n",
    "file_path = 'train_metrics.csv'\n",
    "\n",
    "with open(file_path, 'w', newline='') as csvfile:\n",
    "    writer = csv.writer(csvfile)   "
   ]
  },
  {
   "cell_type": "code",
   "execution_count": 274,
   "id": "bceefd4d-0b90-4b22-bfc7-8e48a5959eae",
   "metadata": {
    "execution": {
     "iopub.execute_input": "2024-12-06T08:10:26.021412Z",
     "iopub.status.busy": "2024-12-06T08:10:26.021158Z",
     "iopub.status.idle": "2024-12-06T08:10:26.035999Z",
     "shell.execute_reply": "2024-12-06T08:10:26.035284Z",
     "shell.execute_reply.started": "2024-12-06T08:10:26.021389Z"
    },
    "papermill": {
     "duration": 0.019533,
     "end_time": "2024-02-26T06:00:07.984557",
     "exception": false,
     "start_time": "2024-02-26T06:00:07.965024",
     "status": "completed"
    },
    "tags": [],
    "trusted": true
   },
   "outputs": [],
   "source": [
    "# import shutil\n",
    "\n",
    "# source_file = '/kaggle/input/banglacharrecognition/train_metrics.csv'\n",
    "# destination_file = '/kaggle/working/train_metrics.csv'\n",
    "\n",
    "# shutil.copyfile(source_file, destination_file)"
   ]
  },
  {
   "cell_type": "code",
   "execution_count": 275,
   "id": "701aea52-075e-4a88-91b0-3044345ad558",
   "metadata": {
    "execution": {
     "iopub.execute_input": "2024-12-06T08:10:26.037661Z",
     "iopub.status.busy": "2024-12-06T08:10:26.037084Z",
     "iopub.status.idle": "2024-12-06T08:10:26.047694Z",
     "shell.execute_reply": "2024-12-06T08:10:26.046897Z",
     "shell.execute_reply.started": "2024-12-06T08:10:26.037635Z"
    },
    "papermill": {
     "duration": 0.021761,
     "end_time": "2024-02-26T06:00:08.019433",
     "exception": false,
     "start_time": "2024-02-26T06:00:07.997672",
     "status": "completed"
    },
    "tags": [],
    "trusted": true
   },
   "outputs": [],
   "source": [
    "import csv\n",
    "\n",
    "headers = list(results.keys())\n",
    "\n",
    "epoch_result = [list(col) for col in zip(*results.values())]\n",
    "\n",
    "file_path = 'train_metrics.csv'\n",
    "\n",
    "with open(file_path, 'a', newline='') as csvfile:\n",
    "    writer = csv.writer(csvfile)\n",
    "    writer.writerow(headers)\n",
    "    writer.writerows(epoch_result)"
   ]
  },
  {
   "cell_type": "markdown",
   "id": "71b49a5f-698f-4668-a80c-6c9c2b03a59f",
   "metadata": {
    "papermill": {
     "duration": 0.012857,
     "end_time": "2024-02-26T06:00:08.045843",
     "exception": false,
     "start_time": "2024-02-26T06:00:08.032986",
     "status": "completed"
    },
    "tags": []
   },
   "source": [
    "### 8. Loading the best model"
   ]
  },
  {
   "cell_type": "code",
   "execution_count": 276,
   "id": "620c3510-5a93-463b-bb86-0743dfc06701",
   "metadata": {
    "execution": {
     "iopub.execute_input": "2024-12-06T08:10:26.049508Z",
     "iopub.status.busy": "2024-12-06T08:10:26.048767Z",
     "iopub.status.idle": "2024-12-06T08:10:26.127773Z",
     "shell.execute_reply": "2024-12-06T08:10:26.127023Z",
     "shell.execute_reply.started": "2024-12-06T08:10:26.049470Z"
    },
    "papermill": {
     "duration": 0.090982,
     "end_time": "2024-02-26T06:00:08.149977",
     "exception": false,
     "start_time": "2024-02-26T06:00:08.058995",
     "status": "completed"
    },
    "tags": [],
    "trusted": true
   },
   "outputs": [
    {
     "name": "stderr",
     "output_type": "stream",
     "text": [
      "/tmp/ipykernel_30/1361016873.py:2: FutureWarning: You are using `torch.load` with `weights_only=False` (the current default value), which uses the default pickle module implicitly. It is possible to construct malicious pickle data which will execute arbitrary code during unpickling (See https://github.com/pytorch/pytorch/blob/main/SECURITY.md#untrusted-models for more details). In a future release, the default value for `weights_only` will be flipped to `True`. This limits the functions that could be executed during unpickling. Arbitrary objects will no longer be allowed to be loaded via this mode unless they are explicitly allowlisted by the user via `torch.serialization.add_safe_globals`. We recommend you start setting `weights_only=True` for any use case where you don't have full control of the loaded file. Please open an issue on GitHub for any issues related to this experimental feature.\n",
      "  model.load_state_dict(torch.load(PATH))\n"
     ]
    },
    {
     "data": {
      "text/plain": [
       "<All keys matched successfully>"
      ]
     },
     "execution_count": 276,
     "metadata": {},
     "output_type": "execute_result"
    }
   ],
   "source": [
    "PATH = '/kaggle/working/models/best_model.pth'\n",
    "model.load_state_dict(torch.load(PATH))"
   ]
  },
  {
   "cell_type": "code",
   "execution_count": 277,
   "id": "ab098d47-b395-47a2-a2e2-b9c17329bb48",
   "metadata": {
    "execution": {
     "iopub.execute_input": "2024-12-06T08:10:26.129582Z",
     "iopub.status.busy": "2024-12-06T08:10:26.128967Z",
     "iopub.status.idle": "2024-12-06T08:10:27.485628Z",
     "shell.execute_reply": "2024-12-06T08:10:27.484461Z",
     "shell.execute_reply.started": "2024-12-06T08:10:26.129535Z"
    },
    "papermill": {
     "duration": 44.262288,
     "end_time": "2024-02-26T06:00:52.425555",
     "exception": false,
     "start_time": "2024-02-26T06:00:08.163267",
     "status": "completed"
    },
    "tags": [],
    "trusted": true
   },
   "outputs": [],
   "source": [
    "test_loss, test_acc, test_precision, test_recall, test_f1, test_confusion_matrix = test_step(model=model,\n",
    "                                                                                            num_classes=len(class_names),\n",
    "                                                                                            dataloader=test_dataloader,\n",
    "                                                                                            loss_fn=loss_fn,\n",
    "                                                                                            device=device)"
   ]
  },
  {
   "cell_type": "code",
   "execution_count": 278,
   "id": "18f05ece-57d8-4918-a4b3-79d4e225e2f6",
   "metadata": {
    "execution": {
     "iopub.execute_input": "2024-12-06T08:10:27.487421Z",
     "iopub.status.busy": "2024-12-06T08:10:27.487091Z",
     "iopub.status.idle": "2024-12-06T08:10:27.492438Z",
     "shell.execute_reply": "2024-12-06T08:10:27.491605Z",
     "shell.execute_reply.started": "2024-12-06T08:10:27.487388Z"
    },
    "trusted": true
   },
   "outputs": [
    {
     "name": "stdout",
     "output_type": "stream",
     "text": [
      "0.9241071343421936\n"
     ]
    }
   ],
   "source": [
    "print(test_acc)"
   ]
  },
  {
   "cell_type": "code",
   "execution_count": 279,
   "id": "4bf4c63a-3bfe-40bc-85f6-66e7c6dd5849",
   "metadata": {
    "execution": {
     "iopub.execute_input": "2024-12-06T08:10:27.493744Z",
     "iopub.status.busy": "2024-12-06T08:10:27.493420Z",
     "iopub.status.idle": "2024-12-06T08:10:27.505476Z",
     "shell.execute_reply": "2024-12-06T08:10:27.504612Z",
     "shell.execute_reply.started": "2024-12-06T08:10:27.493720Z"
    },
    "trusted": true
   },
   "outputs": [
    {
     "name": "stdout",
     "output_type": "stream",
     "text": [
      "0.4502467632160655\n"
     ]
    }
   ],
   "source": [
    "print(test_loss)"
   ]
  },
  {
   "cell_type": "code",
   "execution_count": 280,
   "id": "ff4d7f9b-f380-4fd2-847d-4329b0a38fa2",
   "metadata": {
    "execution": {
     "iopub.execute_input": "2024-12-06T08:10:27.506766Z",
     "iopub.status.busy": "2024-12-06T08:10:27.506556Z",
     "iopub.status.idle": "2024-12-06T08:10:27.516964Z",
     "shell.execute_reply": "2024-12-06T08:10:27.516286Z",
     "shell.execute_reply.started": "2024-12-06T08:10:27.506744Z"
    },
    "papermill": {
     "duration": 0.027155,
     "end_time": "2024-02-26T06:00:52.473156",
     "exception": false,
     "start_time": "2024-02-26T06:00:52.446001",
     "status": "completed"
    },
    "tags": [],
    "trusted": true
   },
   "outputs": [],
   "source": [
    "PATH = 'test_metrics.txt'\n",
    "with open(PATH, 'w') as fp:\n",
    "    fp.write(f'Test Loss: {test_loss}\\n')\n",
    "    fp.write(f'Test Accuracy: {test_acc}\\n')\n",
    "    fp.write(f'Test Precision: {test_precision}\\n')\n",
    "    fp.write(f'Test Recall: {test_recall}\\n')\n",
    "    fp.write(f'Test F1 Score: {test_f1}\\n')\n",
    "    fp.write(f'Test Confusion Matrix: \\n{test_confusion_matrix.numpy()}\\n')"
   ]
  },
  {
   "cell_type": "code",
   "execution_count": null,
   "id": "4a96a5a6",
   "metadata": {},
   "outputs": [],
   "source": [
    "print('hello')"
   ]
  }
 ],
 "metadata": {
  "kaggle": {
   "accelerator": "gpu",
   "dataSources": [
    {
     "datasetId": 5869014,
     "sourceId": 9616905,
     "sourceType": "datasetVersion"
    },
    {
     "datasetId": 6229109,
     "sourceId": 10099712,
     "sourceType": "datasetVersion"
    },
    {
     "datasetId": 6234197,
     "sourceId": 10106424,
     "sourceType": "datasetVersion"
    }
   ],
   "dockerImageVersionId": 30787,
   "isGpuEnabled": true,
   "isInternetEnabled": true,
   "language": "python",
   "sourceType": "notebook"
  },
  "kernelspec": {
   "display_name": "Python 3",
   "language": "python",
   "name": "python3"
  },
  "language_info": {
   "codemirror_mode": {
    "name": "ipython",
    "version": 3
   },
   "file_extension": ".py",
   "mimetype": "text/x-python",
   "name": "python",
   "nbconvert_exporter": "python",
   "pygments_lexer": "ipython3",
   "version": "3.10.14"
  },
  "papermill": {
   "default_parameters": {},
   "duration": 7710.494573,
   "end_time": "2024-02-26T06:00:54.324635",
   "environment_variables": {},
   "exception": null,
   "input_path": "__notebook__.ipynb",
   "output_path": "__notebook__.ipynb",
   "parameters": {},
   "start_time": "2024-02-26T03:52:23.830062",
   "version": "2.5.0"
  },
  "widgets": {
   "application/vnd.jupyter.widget-state+json": {
    "state": {
     "047bff7059b84f08a95dfc42a9507e80": {
      "model_module": "@jupyter-widgets/controls",
      "model_module_version": "1.5.0",
      "model_name": "FloatProgressModel",
      "state": {
       "_dom_classes": [],
       "_model_module": "@jupyter-widgets/controls",
       "_model_module_version": "1.5.0",
       "_model_name": "FloatProgressModel",
       "_view_count": null,
       "_view_module": "@jupyter-widgets/controls",
       "_view_module_version": "1.5.0",
       "_view_name": "ProgressView",
       "bar_style": "success",
       "description": "",
       "description_tooltip": null,
       "layout": "IPY_MODEL_b209171d449945debe3a021df1f41b07",
       "max": 15,
       "min": 0,
       "orientation": "horizontal",
       "style": "IPY_MODEL_69b86ee2cbc64e84aea318b50ab76b37",
       "value": 15
      }
     },
     "5d877353f2fc4dba84ca604346e3ce0c": {
      "model_module": "@jupyter-widgets/base",
      "model_module_version": "1.2.0",
      "model_name": "LayoutModel",
      "state": {
       "_model_module": "@jupyter-widgets/base",
       "_model_module_version": "1.2.0",
       "_model_name": "LayoutModel",
       "_view_count": null,
       "_view_module": "@jupyter-widgets/base",
       "_view_module_version": "1.2.0",
       "_view_name": "LayoutView",
       "align_content": null,
       "align_items": null,
       "align_self": null,
       "border": null,
       "bottom": null,
       "display": null,
       "flex": null,
       "flex_flow": null,
       "grid_area": null,
       "grid_auto_columns": null,
       "grid_auto_flow": null,
       "grid_auto_rows": null,
       "grid_column": null,
       "grid_gap": null,
       "grid_row": null,
       "grid_template_areas": null,
       "grid_template_columns": null,
       "grid_template_rows": null,
       "height": null,
       "justify_content": null,
       "justify_items": null,
       "left": null,
       "margin": null,
       "max_height": null,
       "max_width": null,
       "min_height": null,
       "min_width": null,
       "object_fit": null,
       "object_position": null,
       "order": null,
       "overflow": null,
       "overflow_x": null,
       "overflow_y": null,
       "padding": null,
       "right": null,
       "top": null,
       "visibility": null,
       "width": null
      }
     },
     "69b86ee2cbc64e84aea318b50ab76b37": {
      "model_module": "@jupyter-widgets/controls",
      "model_module_version": "1.5.0",
      "model_name": "ProgressStyleModel",
      "state": {
       "_model_module": "@jupyter-widgets/controls",
       "_model_module_version": "1.5.0",
       "_model_name": "ProgressStyleModel",
       "_view_count": null,
       "_view_module": "@jupyter-widgets/base",
       "_view_module_version": "1.2.0",
       "_view_name": "StyleView",
       "bar_color": null,
       "description_width": ""
      }
     },
     "6e99b28ff9ee48789e26b053068c2128": {
      "model_module": "@jupyter-widgets/controls",
      "model_module_version": "1.5.0",
      "model_name": "HBoxModel",
      "state": {
       "_dom_classes": [],
       "_model_module": "@jupyter-widgets/controls",
       "_model_module_version": "1.5.0",
       "_model_name": "HBoxModel",
       "_view_count": null,
       "_view_module": "@jupyter-widgets/controls",
       "_view_module_version": "1.5.0",
       "_view_name": "HBoxView",
       "box_style": "",
       "children": [
        "IPY_MODEL_c50cfc8986db41439ab63f35ab6ae8df",
        "IPY_MODEL_047bff7059b84f08a95dfc42a9507e80",
        "IPY_MODEL_eb8bb1c2776445139363a56e947b64b8"
       ],
       "layout": "IPY_MODEL_fdb46f2573ba44948e7ea0f969dbeee5"
      }
     },
     "84c5497df89c47ed88720c08c9564a59": {
      "model_module": "@jupyter-widgets/base",
      "model_module_version": "1.2.0",
      "model_name": "LayoutModel",
      "state": {
       "_model_module": "@jupyter-widgets/base",
       "_model_module_version": "1.2.0",
       "_model_name": "LayoutModel",
       "_view_count": null,
       "_view_module": "@jupyter-widgets/base",
       "_view_module_version": "1.2.0",
       "_view_name": "LayoutView",
       "align_content": null,
       "align_items": null,
       "align_self": null,
       "border": null,
       "bottom": null,
       "display": null,
       "flex": null,
       "flex_flow": null,
       "grid_area": null,
       "grid_auto_columns": null,
       "grid_auto_flow": null,
       "grid_auto_rows": null,
       "grid_column": null,
       "grid_gap": null,
       "grid_row": null,
       "grid_template_areas": null,
       "grid_template_columns": null,
       "grid_template_rows": null,
       "height": null,
       "justify_content": null,
       "justify_items": null,
       "left": null,
       "margin": null,
       "max_height": null,
       "max_width": null,
       "min_height": null,
       "min_width": null,
       "object_fit": null,
       "object_position": null,
       "order": null,
       "overflow": null,
       "overflow_x": null,
       "overflow_y": null,
       "padding": null,
       "right": null,
       "top": null,
       "visibility": null,
       "width": null
      }
     },
     "b209171d449945debe3a021df1f41b07": {
      "model_module": "@jupyter-widgets/base",
      "model_module_version": "1.2.0",
      "model_name": "LayoutModel",
      "state": {
       "_model_module": "@jupyter-widgets/base",
       "_model_module_version": "1.2.0",
       "_model_name": "LayoutModel",
       "_view_count": null,
       "_view_module": "@jupyter-widgets/base",
       "_view_module_version": "1.2.0",
       "_view_name": "LayoutView",
       "align_content": null,
       "align_items": null,
       "align_self": null,
       "border": null,
       "bottom": null,
       "display": null,
       "flex": null,
       "flex_flow": null,
       "grid_area": null,
       "grid_auto_columns": null,
       "grid_auto_flow": null,
       "grid_auto_rows": null,
       "grid_column": null,
       "grid_gap": null,
       "grid_row": null,
       "grid_template_areas": null,
       "grid_template_columns": null,
       "grid_template_rows": null,
       "height": null,
       "justify_content": null,
       "justify_items": null,
       "left": null,
       "margin": null,
       "max_height": null,
       "max_width": null,
       "min_height": null,
       "min_width": null,
       "object_fit": null,
       "object_position": null,
       "order": null,
       "overflow": null,
       "overflow_x": null,
       "overflow_y": null,
       "padding": null,
       "right": null,
       "top": null,
       "visibility": null,
       "width": null
      }
     },
     "c50cfc8986db41439ab63f35ab6ae8df": {
      "model_module": "@jupyter-widgets/controls",
      "model_module_version": "1.5.0",
      "model_name": "HTMLModel",
      "state": {
       "_dom_classes": [],
       "_model_module": "@jupyter-widgets/controls",
       "_model_module_version": "1.5.0",
       "_model_name": "HTMLModel",
       "_view_count": null,
       "_view_module": "@jupyter-widgets/controls",
       "_view_module_version": "1.5.0",
       "_view_name": "HTMLView",
       "description": "",
       "description_tooltip": null,
       "layout": "IPY_MODEL_5d877353f2fc4dba84ca604346e3ce0c",
       "placeholder": "​",
       "style": "IPY_MODEL_e2817c051d68489eb1e2b3cf73a85e95",
       "value": "100%"
      }
     },
     "dd16716ed4ef4708b23b070ccd6768d4": {
      "model_module": "@jupyter-widgets/controls",
      "model_module_version": "1.5.0",
      "model_name": "DescriptionStyleModel",
      "state": {
       "_model_module": "@jupyter-widgets/controls",
       "_model_module_version": "1.5.0",
       "_model_name": "DescriptionStyleModel",
       "_view_count": null,
       "_view_module": "@jupyter-widgets/base",
       "_view_module_version": "1.2.0",
       "_view_name": "StyleView",
       "description_width": ""
      }
     },
     "e2817c051d68489eb1e2b3cf73a85e95": {
      "model_module": "@jupyter-widgets/controls",
      "model_module_version": "1.5.0",
      "model_name": "DescriptionStyleModel",
      "state": {
       "_model_module": "@jupyter-widgets/controls",
       "_model_module_version": "1.5.0",
       "_model_name": "DescriptionStyleModel",
       "_view_count": null,
       "_view_module": "@jupyter-widgets/base",
       "_view_module_version": "1.2.0",
       "_view_name": "StyleView",
       "description_width": ""
      }
     },
     "eb8bb1c2776445139363a56e947b64b8": {
      "model_module": "@jupyter-widgets/controls",
      "model_module_version": "1.5.0",
      "model_name": "HTMLModel",
      "state": {
       "_dom_classes": [],
       "_model_module": "@jupyter-widgets/controls",
       "_model_module_version": "1.5.0",
       "_model_name": "HTMLModel",
       "_view_count": null,
       "_view_module": "@jupyter-widgets/controls",
       "_view_module_version": "1.5.0",
       "_view_name": "HTMLView",
       "description": "",
       "description_tooltip": null,
       "layout": "IPY_MODEL_84c5497df89c47ed88720c08c9564a59",
       "placeholder": "​",
       "style": "IPY_MODEL_dd16716ed4ef4708b23b070ccd6768d4",
       "value": " 15/15 [2:06:11&lt;00:00, 504.06s/it]"
      }
     },
     "fdb46f2573ba44948e7ea0f969dbeee5": {
      "model_module": "@jupyter-widgets/base",
      "model_module_version": "1.2.0",
      "model_name": "LayoutModel",
      "state": {
       "_model_module": "@jupyter-widgets/base",
       "_model_module_version": "1.2.0",
       "_model_name": "LayoutModel",
       "_view_count": null,
       "_view_module": "@jupyter-widgets/base",
       "_view_module_version": "1.2.0",
       "_view_name": "LayoutView",
       "align_content": null,
       "align_items": null,
       "align_self": null,
       "border": null,
       "bottom": null,
       "display": null,
       "flex": null,
       "flex_flow": null,
       "grid_area": null,
       "grid_auto_columns": null,
       "grid_auto_flow": null,
       "grid_auto_rows": null,
       "grid_column": null,
       "grid_gap": null,
       "grid_row": null,
       "grid_template_areas": null,
       "grid_template_columns": null,
       "grid_template_rows": null,
       "height": null,
       "justify_content": null,
       "justify_items": null,
       "left": null,
       "margin": null,
       "max_height": null,
       "max_width": null,
       "min_height": null,
       "min_width": null,
       "object_fit": null,
       "object_position": null,
       "order": null,
       "overflow": null,
       "overflow_x": null,
       "overflow_y": null,
       "padding": null,
       "right": null,
       "top": null,
       "visibility": null,
       "width": null
      }
     }
    },
    "version_major": 2,
    "version_minor": 0
   }
  }
 },
 "nbformat": 4,
 "nbformat_minor": 5
}
